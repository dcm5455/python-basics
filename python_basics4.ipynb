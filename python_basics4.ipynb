{
  "nbformat": 4,
  "nbformat_minor": 0,
  "metadata": {
    "colab": {
      "name": "python basics4.ipynb",
      "provenance": [],
      "authorship_tag": "ABX9TyPmT+sdxNaPfyzPiv1Hw+ti",
      "include_colab_link": true
    },
    "kernelspec": {
      "name": "python3",
      "display_name": "Python 3"
    },
    "language_info": {
      "name": "python"
    }
  },
  "cells": [
    {
      "cell_type": "markdown",
      "metadata": {
        "id": "view-in-github",
        "colab_type": "text"
      },
      "source": [
        "<a href=\"https://colab.research.google.com/github/dcm5455/python-basics/blob/main/python_basics4.ipynb\" target=\"_parent\"><img src=\"https://colab.research.google.com/assets/colab-badge.svg\" alt=\"Open In Colab\"/></a>"
      ]
    },
    {
      "cell_type": "code",
      "metadata": {
        "id": "NcMvqNvptGNc"
      },
      "source": [
        ""
      ],
      "execution_count": null,
      "outputs": []
    },
    {
      "cell_type": "markdown",
      "metadata": {
        "id": "VuKHiKDBtLRj"
      },
      "source": [
        "***pandas***"
      ]
    },
    {
      "cell_type": "code",
      "metadata": {
        "colab": {
          "base_uri": "https://localhost:8080/"
        },
        "id": "Amn6OWQhtN-Z",
        "outputId": "590b15dd-3510-4cfa-ae6e-9071344b2b61"
      },
      "source": [
        "pip install  pandas"
      ],
      "execution_count": null,
      "outputs": [
        {
          "output_type": "stream",
          "text": [
            "Requirement already satisfied: pandas in /usr/local/lib/python3.7/dist-packages (1.1.5)\n",
            "Requirement already satisfied: numpy>=1.15.4 in /usr/local/lib/python3.7/dist-packages (from pandas) (1.19.5)\n",
            "Requirement already satisfied: python-dateutil>=2.7.3 in /usr/local/lib/python3.7/dist-packages (from pandas) (2.8.1)\n",
            "Requirement already satisfied: pytz>=2017.2 in /usr/local/lib/python3.7/dist-packages (from pandas) (2018.9)\n",
            "Requirement already satisfied: six>=1.5 in /usr/local/lib/python3.7/dist-packages (from python-dateutil>=2.7.3->pandas) (1.15.0)\n"
          ],
          "name": "stdout"
        }
      ]
    },
    {
      "cell_type": "code",
      "metadata": {
        "id": "mppxh96buvuI"
      },
      "source": [
        "import numpy as np\n",
        "import pandas as pd\n"
      ],
      "execution_count": null,
      "outputs": []
    },
    {
      "cell_type": "code",
      "metadata": {
        "id": "i7K8xM_eu4wP"
      },
      "source": [
        "df=pd.DataFrame({'Name':pd.Series(['Alice','Chris','Bob']),\n",
        "                 'Age':pd.Series([1,2,3])\n",
        "\n",
        "               })"
      ],
      "execution_count": null,
      "outputs": []
    },
    {
      "cell_type": "code",
      "metadata": {
        "colab": {
          "base_uri": "https://localhost:8080/"
        },
        "id": "rygnIA6JzMDK",
        "outputId": "6b45cef5-11f8-42b1-9f4c-4c830adc129c"
      },
      "source": [
        "print(df)"
      ],
      "execution_count": null,
      "outputs": [
        {
          "output_type": "stream",
          "text": [
            "    Name  Age\n",
            "0  Alice    1\n",
            "1  Chris    2\n",
            "2    Bob    3\n"
          ],
          "name": "stdout"
        }
      ]
    },
    {
      "cell_type": "code",
      "metadata": {
        "colab": {
          "base_uri": "https://localhost:8080/"
        },
        "id": "CQMMc_2nz1f3",
        "outputId": "090ee555-ed42-41a1-d2d7-d57bf1e7d6f4"
      },
      "source": [
        "df['height']=pd.Series([5.3,3.6,7.3])\n",
        "print(df)"
      ],
      "execution_count": null,
      "outputs": [
        {
          "output_type": "stream",
          "text": [
            "    Name  Age  height\n",
            "0  Alice    1     5.3\n",
            "1  Chris    2     3.6\n",
            "2    Bob    3     7.3\n"
          ],
          "name": "stdout"
        }
      ]
    },
    {
      "cell_type": "code",
      "metadata": {
        "id": "GLAUou8j0ab8"
      },
      "source": [
        "df=pd.read_csv(\"/content/Salaries.csv\")\n"
      ],
      "execution_count": null,
      "outputs": []
    },
    {
      "cell_type": "code",
      "metadata": {
        "colab": {
          "base_uri": "https://localhost:8080/",
          "height": 419
        },
        "id": "RQQwVa9_03GQ",
        "outputId": "a2414643-b27d-4c05-d4a3-d432bf59d5c9"
      },
      "source": [
        "df"
      ],
      "execution_count": null,
      "outputs": [
        {
          "output_type": "execute_result",
          "data": {
            "text/html": [
              "<div>\n",
              "<style scoped>\n",
              "    .dataframe tbody tr th:only-of-type {\n",
              "        vertical-align: middle;\n",
              "    }\n",
              "\n",
              "    .dataframe tbody tr th {\n",
              "        vertical-align: top;\n",
              "    }\n",
              "\n",
              "    .dataframe thead th {\n",
              "        text-align: right;\n",
              "    }\n",
              "</style>\n",
              "<table border=\"1\" class=\"dataframe\">\n",
              "  <thead>\n",
              "    <tr style=\"text-align: right;\">\n",
              "      <th></th>\n",
              "      <th>rank</th>\n",
              "      <th>discipline</th>\n",
              "      <th>phd</th>\n",
              "      <th>service</th>\n",
              "      <th>sex</th>\n",
              "      <th>salary</th>\n",
              "    </tr>\n",
              "  </thead>\n",
              "  <tbody>\n",
              "    <tr>\n",
              "      <th>0</th>\n",
              "      <td>Prof</td>\n",
              "      <td>B</td>\n",
              "      <td>56</td>\n",
              "      <td>49</td>\n",
              "      <td>Male</td>\n",
              "      <td>186960</td>\n",
              "    </tr>\n",
              "    <tr>\n",
              "      <th>1</th>\n",
              "      <td>Prof</td>\n",
              "      <td>A</td>\n",
              "      <td>12</td>\n",
              "      <td>6</td>\n",
              "      <td>Male</td>\n",
              "      <td>93000</td>\n",
              "    </tr>\n",
              "    <tr>\n",
              "      <th>2</th>\n",
              "      <td>Prof</td>\n",
              "      <td>A</td>\n",
              "      <td>23</td>\n",
              "      <td>20</td>\n",
              "      <td>Male</td>\n",
              "      <td>110515</td>\n",
              "    </tr>\n",
              "    <tr>\n",
              "      <th>3</th>\n",
              "      <td>Prof</td>\n",
              "      <td>A</td>\n",
              "      <td>40</td>\n",
              "      <td>31</td>\n",
              "      <td>Male</td>\n",
              "      <td>131205</td>\n",
              "    </tr>\n",
              "    <tr>\n",
              "      <th>4</th>\n",
              "      <td>Prof</td>\n",
              "      <td>B</td>\n",
              "      <td>20</td>\n",
              "      <td>18</td>\n",
              "      <td>Male</td>\n",
              "      <td>104800</td>\n",
              "    </tr>\n",
              "    <tr>\n",
              "      <th>...</th>\n",
              "      <td>...</td>\n",
              "      <td>...</td>\n",
              "      <td>...</td>\n",
              "      <td>...</td>\n",
              "      <td>...</td>\n",
              "      <td>...</td>\n",
              "    </tr>\n",
              "    <tr>\n",
              "      <th>73</th>\n",
              "      <td>Prof</td>\n",
              "      <td>B</td>\n",
              "      <td>18</td>\n",
              "      <td>10</td>\n",
              "      <td>Female</td>\n",
              "      <td>105450</td>\n",
              "    </tr>\n",
              "    <tr>\n",
              "      <th>74</th>\n",
              "      <td>AssocProf</td>\n",
              "      <td>B</td>\n",
              "      <td>19</td>\n",
              "      <td>6</td>\n",
              "      <td>Female</td>\n",
              "      <td>104542</td>\n",
              "    </tr>\n",
              "    <tr>\n",
              "      <th>75</th>\n",
              "      <td>Prof</td>\n",
              "      <td>B</td>\n",
              "      <td>17</td>\n",
              "      <td>17</td>\n",
              "      <td>Female</td>\n",
              "      <td>124312</td>\n",
              "    </tr>\n",
              "    <tr>\n",
              "      <th>76</th>\n",
              "      <td>Prof</td>\n",
              "      <td>A</td>\n",
              "      <td>28</td>\n",
              "      <td>14</td>\n",
              "      <td>Female</td>\n",
              "      <td>109954</td>\n",
              "    </tr>\n",
              "    <tr>\n",
              "      <th>77</th>\n",
              "      <td>Prof</td>\n",
              "      <td>A</td>\n",
              "      <td>23</td>\n",
              "      <td>15</td>\n",
              "      <td>Female</td>\n",
              "      <td>109646</td>\n",
              "    </tr>\n",
              "  </tbody>\n",
              "</table>\n",
              "<p>78 rows × 6 columns</p>\n",
              "</div>"
            ],
            "text/plain": [
              "         rank discipline  phd  service     sex  salary\n",
              "0        Prof          B   56       49    Male  186960\n",
              "1        Prof          A   12        6    Male   93000\n",
              "2        Prof          A   23       20    Male  110515\n",
              "3        Prof          A   40       31    Male  131205\n",
              "4        Prof          B   20       18    Male  104800\n",
              "..        ...        ...  ...      ...     ...     ...\n",
              "73       Prof          B   18       10  Female  105450\n",
              "74  AssocProf          B   19        6  Female  104542\n",
              "75       Prof          B   17       17  Female  124312\n",
              "76       Prof          A   28       14  Female  109954\n",
              "77       Prof          A   23       15  Female  109646\n",
              "\n",
              "[78 rows x 6 columns]"
            ]
          },
          "metadata": {
            "tags": []
          },
          "execution_count": 15
        }
      ]
    },
    {
      "cell_type": "code",
      "metadata": {
        "colab": {
          "base_uri": "https://localhost:8080/",
          "height": 204
        },
        "id": "OOCFtCOe06FB",
        "outputId": "463c0bb3-9c96-4df5-8a11-2fdeb5dbf5dc"
      },
      "source": [
        "#top rows\n",
        "df.head()"
      ],
      "execution_count": null,
      "outputs": [
        {
          "output_type": "execute_result",
          "data": {
            "text/html": [
              "<div>\n",
              "<style scoped>\n",
              "    .dataframe tbody tr th:only-of-type {\n",
              "        vertical-align: middle;\n",
              "    }\n",
              "\n",
              "    .dataframe tbody tr th {\n",
              "        vertical-align: top;\n",
              "    }\n",
              "\n",
              "    .dataframe thead th {\n",
              "        text-align: right;\n",
              "    }\n",
              "</style>\n",
              "<table border=\"1\" class=\"dataframe\">\n",
              "  <thead>\n",
              "    <tr style=\"text-align: right;\">\n",
              "      <th></th>\n",
              "      <th>rank</th>\n",
              "      <th>discipline</th>\n",
              "      <th>phd</th>\n",
              "      <th>service</th>\n",
              "      <th>sex</th>\n",
              "      <th>salary</th>\n",
              "    </tr>\n",
              "  </thead>\n",
              "  <tbody>\n",
              "    <tr>\n",
              "      <th>0</th>\n",
              "      <td>Prof</td>\n",
              "      <td>B</td>\n",
              "      <td>56</td>\n",
              "      <td>49</td>\n",
              "      <td>Male</td>\n",
              "      <td>186960</td>\n",
              "    </tr>\n",
              "    <tr>\n",
              "      <th>1</th>\n",
              "      <td>Prof</td>\n",
              "      <td>A</td>\n",
              "      <td>12</td>\n",
              "      <td>6</td>\n",
              "      <td>Male</td>\n",
              "      <td>93000</td>\n",
              "    </tr>\n",
              "    <tr>\n",
              "      <th>2</th>\n",
              "      <td>Prof</td>\n",
              "      <td>A</td>\n",
              "      <td>23</td>\n",
              "      <td>20</td>\n",
              "      <td>Male</td>\n",
              "      <td>110515</td>\n",
              "    </tr>\n",
              "    <tr>\n",
              "      <th>3</th>\n",
              "      <td>Prof</td>\n",
              "      <td>A</td>\n",
              "      <td>40</td>\n",
              "      <td>31</td>\n",
              "      <td>Male</td>\n",
              "      <td>131205</td>\n",
              "    </tr>\n",
              "    <tr>\n",
              "      <th>4</th>\n",
              "      <td>Prof</td>\n",
              "      <td>B</td>\n",
              "      <td>20</td>\n",
              "      <td>18</td>\n",
              "      <td>Male</td>\n",
              "      <td>104800</td>\n",
              "    </tr>\n",
              "  </tbody>\n",
              "</table>\n",
              "</div>"
            ],
            "text/plain": [
              "   rank discipline  phd  service   sex  salary\n",
              "0  Prof          B   56       49  Male  186960\n",
              "1  Prof          A   12        6  Male   93000\n",
              "2  Prof          A   23       20  Male  110515\n",
              "3  Prof          A   40       31  Male  131205\n",
              "4  Prof          B   20       18  Male  104800"
            ]
          },
          "metadata": {
            "tags": []
          },
          "execution_count": 16
        }
      ]
    },
    {
      "cell_type": "code",
      "metadata": {
        "colab": {
          "base_uri": "https://localhost:8080/",
          "height": 142
        },
        "id": "caHmpaUg1QkO",
        "outputId": "29cc6b50-3f85-48ca-b79a-947af090b113"
      },
      "source": [
        "#bottom rows\n",
        "df.tail(3)"
      ],
      "execution_count": null,
      "outputs": [
        {
          "output_type": "execute_result",
          "data": {
            "text/html": [
              "<div>\n",
              "<style scoped>\n",
              "    .dataframe tbody tr th:only-of-type {\n",
              "        vertical-align: middle;\n",
              "    }\n",
              "\n",
              "    .dataframe tbody tr th {\n",
              "        vertical-align: top;\n",
              "    }\n",
              "\n",
              "    .dataframe thead th {\n",
              "        text-align: right;\n",
              "    }\n",
              "</style>\n",
              "<table border=\"1\" class=\"dataframe\">\n",
              "  <thead>\n",
              "    <tr style=\"text-align: right;\">\n",
              "      <th></th>\n",
              "      <th>rank</th>\n",
              "      <th>discipline</th>\n",
              "      <th>phd</th>\n",
              "      <th>service</th>\n",
              "      <th>sex</th>\n",
              "      <th>salary</th>\n",
              "    </tr>\n",
              "  </thead>\n",
              "  <tbody>\n",
              "    <tr>\n",
              "      <th>75</th>\n",
              "      <td>Prof</td>\n",
              "      <td>B</td>\n",
              "      <td>17</td>\n",
              "      <td>17</td>\n",
              "      <td>Female</td>\n",
              "      <td>124312</td>\n",
              "    </tr>\n",
              "    <tr>\n",
              "      <th>76</th>\n",
              "      <td>Prof</td>\n",
              "      <td>A</td>\n",
              "      <td>28</td>\n",
              "      <td>14</td>\n",
              "      <td>Female</td>\n",
              "      <td>109954</td>\n",
              "    </tr>\n",
              "    <tr>\n",
              "      <th>77</th>\n",
              "      <td>Prof</td>\n",
              "      <td>A</td>\n",
              "      <td>23</td>\n",
              "      <td>15</td>\n",
              "      <td>Female</td>\n",
              "      <td>109646</td>\n",
              "    </tr>\n",
              "  </tbody>\n",
              "</table>\n",
              "</div>"
            ],
            "text/plain": [
              "    rank discipline  phd  service     sex  salary\n",
              "75  Prof          B   17       17  Female  124312\n",
              "76  Prof          A   28       14  Female  109954\n",
              "77  Prof          A   23       15  Female  109646"
            ]
          },
          "metadata": {
            "tags": []
          },
          "execution_count": 17
        }
      ]
    },
    {
      "cell_type": "code",
      "metadata": {
        "id": "Egha0z841YQ4"
      },
      "source": [
        ""
      ],
      "execution_count": null,
      "outputs": []
    },
    {
      "cell_type": "code",
      "metadata": {
        "colab": {
          "base_uri": "https://localhost:8080/"
        },
        "id": "-0TWviZI1b2M",
        "outputId": "14a8446b-bda4-4182-e19d-cc0d1952fe20"
      },
      "source": [
        "df.shape"
      ],
      "execution_count": null,
      "outputs": [
        {
          "output_type": "execute_result",
          "data": {
            "text/plain": [
              "(78, 6)"
            ]
          },
          "metadata": {
            "tags": []
          },
          "execution_count": 18
        }
      ]
    },
    {
      "cell_type": "code",
      "metadata": {
        "colab": {
          "base_uri": "https://localhost:8080/"
        },
        "id": "LdIeLnhJ1eEq",
        "outputId": "7a930bd6-a5af-4506-d4f8-4e409d19062f"
      },
      "source": [
        "df.size"
      ],
      "execution_count": null,
      "outputs": [
        {
          "output_type": "execute_result",
          "data": {
            "text/plain": [
              "468"
            ]
          },
          "metadata": {
            "tags": []
          },
          "execution_count": 19
        }
      ]
    },
    {
      "cell_type": "code",
      "metadata": {
        "colab": {
          "base_uri": "https://localhost:8080/"
        },
        "id": "hkOrJXO71hJO",
        "outputId": "751219d8-5ebf-4d1d-92a1-52c7e04ec762"
      },
      "source": [
        "df.columns"
      ],
      "execution_count": null,
      "outputs": [
        {
          "output_type": "execute_result",
          "data": {
            "text/plain": [
              "Index(['rank', 'discipline', 'phd', 'service', 'sex', 'salary'], dtype='object')"
            ]
          },
          "metadata": {
            "tags": []
          },
          "execution_count": 20
        }
      ]
    },
    {
      "cell_type": "code",
      "metadata": {
        "colab": {
          "base_uri": "https://localhost:8080/"
        },
        "id": "Iq0r2II51jXd",
        "outputId": "cf121391-ad9f-4a52-c5da-cb3ad9650193"
      },
      "source": [
        "df.dtypes"
      ],
      "execution_count": null,
      "outputs": [
        {
          "output_type": "execute_result",
          "data": {
            "text/plain": [
              "rank          object\n",
              "discipline    object\n",
              "phd            int64\n",
              "service        int64\n",
              "sex           object\n",
              "salary         int64\n",
              "dtype: object"
            ]
          },
          "metadata": {
            "tags": []
          },
          "execution_count": 21
        }
      ]
    },
    {
      "cell_type": "code",
      "metadata": {
        "id": "fQOGGVky1mhX"
      },
      "source": [
        ""
      ],
      "execution_count": null,
      "outputs": []
    },
    {
      "cell_type": "code",
      "metadata": {
        "colab": {
          "base_uri": "https://localhost:8080/"
        },
        "id": "Dz_darzO1n2k",
        "outputId": "3f35f9ac-0268-4624-e05a-099b4fc5c4a2"
      },
      "source": [
        "df.ndim\n"
      ],
      "execution_count": null,
      "outputs": [
        {
          "output_type": "execute_result",
          "data": {
            "text/plain": [
              "2"
            ]
          },
          "metadata": {
            "tags": []
          },
          "execution_count": 24
        }
      ]
    },
    {
      "cell_type": "code",
      "metadata": {
        "colab": {
          "base_uri": "https://localhost:8080/"
        },
        "id": "NWBw4vgn1ytB",
        "outputId": "30ad3a8b-96a4-4376-90c7-8b2fb1871426"
      },
      "source": [
        "df.axes"
      ],
      "execution_count": null,
      "outputs": [
        {
          "output_type": "execute_result",
          "data": {
            "text/plain": [
              "[RangeIndex(start=0, stop=78, step=1),\n",
              " Index(['rank', 'discipline', 'phd', 'service', 'sex', 'salary'], dtype='object')]"
            ]
          },
          "metadata": {
            "tags": []
          },
          "execution_count": 25
        }
      ]
    },
    {
      "cell_type": "code",
      "metadata": {
        "colab": {
          "base_uri": "https://localhost:8080/"
        },
        "id": "NICr_9Sx117g",
        "outputId": "a95b9837-341e-49f9-b5f6-2ede73e3e6a5"
      },
      "source": [
        "type(df)"
      ],
      "execution_count": null,
      "outputs": [
        {
          "output_type": "execute_result",
          "data": {
            "text/plain": [
              "pandas.core.frame.DataFrame"
            ]
          },
          "metadata": {
            "tags": []
          },
          "execution_count": 26
        }
      ]
    },
    {
      "cell_type": "markdown",
      "metadata": {
        "id": "uV5D9I8lhnXt"
      },
      "source": [
        "statistics\n"
      ]
    },
    {
      "cell_type": "code",
      "metadata": {
        "id": "b36jC4NhiNfE"
      },
      "source": [
        "import pandas as pd"
      ],
      "execution_count": null,
      "outputs": []
    },
    {
      "cell_type": "code",
      "metadata": {
        "id": "dA0g-6wlhxFB"
      },
      "source": [
        "df=pd.DataFrame({'Name':pd.Series(['Alice','Chris','Bob']),\n",
        "                 'Age':pd.Series([1,2,3])\n",
        "\n",
        "               })\n"
      ],
      "execution_count": null,
      "outputs": []
    },
    {
      "cell_type": "code",
      "metadata": {
        "colab": {
          "base_uri": "https://localhost:8080/",
          "height": 142
        },
        "id": "-GiNZ6qSiWkp",
        "outputId": "eae968e9-0ee4-4736-d7ca-67df193ccb5f"
      },
      "source": [
        "df"
      ],
      "execution_count": null,
      "outputs": [
        {
          "output_type": "execute_result",
          "data": {
            "text/html": [
              "<div>\n",
              "<style scoped>\n",
              "    .dataframe tbody tr th:only-of-type {\n",
              "        vertical-align: middle;\n",
              "    }\n",
              "\n",
              "    .dataframe tbody tr th {\n",
              "        vertical-align: top;\n",
              "    }\n",
              "\n",
              "    .dataframe thead th {\n",
              "        text-align: right;\n",
              "    }\n",
              "</style>\n",
              "<table border=\"1\" class=\"dataframe\">\n",
              "  <thead>\n",
              "    <tr style=\"text-align: right;\">\n",
              "      <th></th>\n",
              "      <th>Name</th>\n",
              "      <th>Age</th>\n",
              "    </tr>\n",
              "  </thead>\n",
              "  <tbody>\n",
              "    <tr>\n",
              "      <th>0</th>\n",
              "      <td>Alice</td>\n",
              "      <td>1</td>\n",
              "    </tr>\n",
              "    <tr>\n",
              "      <th>1</th>\n",
              "      <td>Chris</td>\n",
              "      <td>2</td>\n",
              "    </tr>\n",
              "    <tr>\n",
              "      <th>2</th>\n",
              "      <td>Bob</td>\n",
              "      <td>3</td>\n",
              "    </tr>\n",
              "  </tbody>\n",
              "</table>\n",
              "</div>"
            ],
            "text/plain": [
              "    Name  Age\n",
              "0  Alice    1\n",
              "1  Chris    2\n",
              "2    Bob    3"
            ]
          },
          "metadata": {
            "tags": []
          },
          "execution_count": 12
        }
      ]
    },
    {
      "cell_type": "code",
      "metadata": {
        "colab": {
          "base_uri": "https://localhost:8080/"
        },
        "id": "WkvM2eMCilGy",
        "outputId": "b40a36e4-46ed-4831-c02d-120effe029f4"
      },
      "source": [
        "df=pd.read_csv(\"/content/Salaries.csv\")\n",
        "print(df)"
      ],
      "execution_count": null,
      "outputs": [
        {
          "output_type": "stream",
          "text": [
            "         rank discipline  phd  service     sex  salary\n",
            "0        Prof          B   56       49    Male  186960\n",
            "1        Prof          A   12        6    Male   93000\n",
            "2        Prof          A   23       20    Male  110515\n",
            "3        Prof          A   40       31    Male  131205\n",
            "4        Prof          B   20       18    Male  104800\n",
            "..        ...        ...  ...      ...     ...     ...\n",
            "73       Prof          B   18       10  Female  105450\n",
            "74  AssocProf          B   19        6  Female  104542\n",
            "75       Prof          B   17       17  Female  124312\n",
            "76       Prof          A   28       14  Female  109954\n",
            "77       Prof          A   23       15  Female  109646\n",
            "\n",
            "[78 rows x 6 columns]\n"
          ],
          "name": "stdout"
        }
      ]
    },
    {
      "cell_type": "code",
      "metadata": {
        "colab": {
          "base_uri": "https://localhost:8080/"
        },
        "id": "1p18D6L_i14Z",
        "outputId": "673d7fdb-4553-40e2-dca4-7d996416323b"
      },
      "source": [
        "df.describe()\n",
        "df['service'].describe()"
      ],
      "execution_count": null,
      "outputs": [
        {
          "output_type": "execute_result",
          "data": {
            "text/plain": [
              "count    78.000000\n",
              "mean     15.051282\n",
              "std      12.139768\n",
              "min       0.000000\n",
              "25%       5.250000\n",
              "50%      14.500000\n",
              "75%      20.750000\n",
              "max      51.000000\n",
              "Name: service, dtype: float64"
            ]
          },
          "metadata": {
            "tags": []
          },
          "execution_count": 19
        }
      ]
    },
    {
      "cell_type": "markdown",
      "metadata": {
        "id": "2QsRX_j9jI6I"
      },
      "source": [
        "data slicing and grouping"
      ]
    },
    {
      "cell_type": "code",
      "metadata": {
        "colab": {
          "base_uri": "https://localhost:8080/"
        },
        "id": "fkxaOU95jNjv",
        "outputId": "24dc9eb6-5538-4af4-e566-c454c7da2e44"
      },
      "source": [
        "df['phd']"
      ],
      "execution_count": null,
      "outputs": [
        {
          "output_type": "execute_result",
          "data": {
            "text/plain": [
              "0     56\n",
              "1     12\n",
              "2     23\n",
              "3     40\n",
              "4     20\n",
              "      ..\n",
              "73    18\n",
              "74    19\n",
              "75    17\n",
              "76    28\n",
              "77    23\n",
              "Name: phd, Length: 78, dtype: int64"
            ]
          },
          "metadata": {
            "tags": []
          },
          "execution_count": 18
        }
      ]
    },
    {
      "cell_type": "code",
      "metadata": {
        "colab": {
          "base_uri": "https://localhost:8080/"
        },
        "id": "3zUQnLOrjf8u",
        "outputId": "d2ab52b1-812e-4609-d2ed-45790d52cd35"
      },
      "source": [
        "df['rank']"
      ],
      "execution_count": null,
      "outputs": [
        {
          "output_type": "execute_result",
          "data": {
            "text/plain": [
              "0          Prof\n",
              "1          Prof\n",
              "2          Prof\n",
              "3          Prof\n",
              "4          Prof\n",
              "        ...    \n",
              "73         Prof\n",
              "74    AssocProf\n",
              "75         Prof\n",
              "76         Prof\n",
              "77         Prof\n",
              "Name: rank, Length: 78, dtype: object"
            ]
          },
          "metadata": {
            "tags": []
          },
          "execution_count": 20
        }
      ]
    },
    {
      "cell_type": "code",
      "metadata": {
        "colab": {
          "base_uri": "https://localhost:8080/",
          "height": 173
        },
        "id": "QxvS659Dj2zz",
        "outputId": "5a47819b-82bf-4dc2-b578-07a4e4d89583"
      },
      "source": [
        "df_rank=df.groupby('rank')\n",
        "df_rank.mean()"
      ],
      "execution_count": null,
      "outputs": [
        {
          "output_type": "execute_result",
          "data": {
            "text/html": [
              "<div>\n",
              "<style scoped>\n",
              "    .dataframe tbody tr th:only-of-type {\n",
              "        vertical-align: middle;\n",
              "    }\n",
              "\n",
              "    .dataframe tbody tr th {\n",
              "        vertical-align: top;\n",
              "    }\n",
              "\n",
              "    .dataframe thead th {\n",
              "        text-align: right;\n",
              "    }\n",
              "</style>\n",
              "<table border=\"1\" class=\"dataframe\">\n",
              "  <thead>\n",
              "    <tr style=\"text-align: right;\">\n",
              "      <th></th>\n",
              "      <th>phd</th>\n",
              "      <th>service</th>\n",
              "      <th>salary</th>\n",
              "    </tr>\n",
              "    <tr>\n",
              "      <th>rank</th>\n",
              "      <th></th>\n",
              "      <th></th>\n",
              "      <th></th>\n",
              "    </tr>\n",
              "  </thead>\n",
              "  <tbody>\n",
              "    <tr>\n",
              "      <th>AssocProf</th>\n",
              "      <td>15.076923</td>\n",
              "      <td>11.307692</td>\n",
              "      <td>91786.230769</td>\n",
              "    </tr>\n",
              "    <tr>\n",
              "      <th>AsstProf</th>\n",
              "      <td>5.052632</td>\n",
              "      <td>2.210526</td>\n",
              "      <td>81362.789474</td>\n",
              "    </tr>\n",
              "    <tr>\n",
              "      <th>Prof</th>\n",
              "      <td>27.065217</td>\n",
              "      <td>21.413043</td>\n",
              "      <td>123624.804348</td>\n",
              "    </tr>\n",
              "  </tbody>\n",
              "</table>\n",
              "</div>"
            ],
            "text/plain": [
              "                 phd    service         salary\n",
              "rank                                          \n",
              "AssocProf  15.076923  11.307692   91786.230769\n",
              "AsstProf    5.052632   2.210526   81362.789474\n",
              "Prof       27.065217  21.413043  123624.804348"
            ]
          },
          "metadata": {
            "tags": []
          },
          "execution_count": 21
        }
      ]
    },
    {
      "cell_type": "markdown",
      "metadata": {
        "id": "qTagxDPlkmgJ"
      },
      "source": [
        "mean salary of male and female"
      ]
    },
    {
      "cell_type": "code",
      "metadata": {
        "colab": {
          "base_uri": "https://localhost:8080/",
          "height": 142
        },
        "id": "WAyDX3ghkp2v",
        "outputId": "ead9b2b5-a08d-4614-bd54-516f7a40eace"
      },
      "source": [
        "g=df.groupby('sex')\n",
        "g[['salary']].mean()"
      ],
      "execution_count": null,
      "outputs": [
        {
          "output_type": "execute_result",
          "data": {
            "text/html": [
              "<div>\n",
              "<style scoped>\n",
              "    .dataframe tbody tr th:only-of-type {\n",
              "        vertical-align: middle;\n",
              "    }\n",
              "\n",
              "    .dataframe tbody tr th {\n",
              "        vertical-align: top;\n",
              "    }\n",
              "\n",
              "    .dataframe thead th {\n",
              "        text-align: right;\n",
              "    }\n",
              "</style>\n",
              "<table border=\"1\" class=\"dataframe\">\n",
              "  <thead>\n",
              "    <tr style=\"text-align: right;\">\n",
              "      <th></th>\n",
              "      <th>salary</th>\n",
              "    </tr>\n",
              "    <tr>\n",
              "      <th>sex</th>\n",
              "      <th></th>\n",
              "    </tr>\n",
              "  </thead>\n",
              "  <tbody>\n",
              "    <tr>\n",
              "      <th>Female</th>\n",
              "      <td>101002.410256</td>\n",
              "    </tr>\n",
              "    <tr>\n",
              "      <th>Male</th>\n",
              "      <td>115045.153846</td>\n",
              "    </tr>\n",
              "  </tbody>\n",
              "</table>\n",
              "</div>"
            ],
            "text/plain": [
              "               salary\n",
              "sex                  \n",
              "Female  101002.410256\n",
              "Male    115045.153846"
            ]
          },
          "metadata": {
            "tags": []
          },
          "execution_count": 30
        }
      ]
    },
    {
      "cell_type": "code",
      "metadata": {
        "colab": {
          "base_uri": "https://localhost:8080/",
          "height": 173
        },
        "id": "4So4EsvjlNs1",
        "outputId": "9dd5c048-0028-48e4-bf6e-e83c4b076f49"
      },
      "source": [
        "df.groupby('rank',sort=False)[['salary']].mean()"
      ],
      "execution_count": null,
      "outputs": [
        {
          "output_type": "execute_result",
          "data": {
            "text/html": [
              "<div>\n",
              "<style scoped>\n",
              "    .dataframe tbody tr th:only-of-type {\n",
              "        vertical-align: middle;\n",
              "    }\n",
              "\n",
              "    .dataframe tbody tr th {\n",
              "        vertical-align: top;\n",
              "    }\n",
              "\n",
              "    .dataframe thead th {\n",
              "        text-align: right;\n",
              "    }\n",
              "</style>\n",
              "<table border=\"1\" class=\"dataframe\">\n",
              "  <thead>\n",
              "    <tr style=\"text-align: right;\">\n",
              "      <th></th>\n",
              "      <th>salary</th>\n",
              "    </tr>\n",
              "    <tr>\n",
              "      <th>rank</th>\n",
              "      <th></th>\n",
              "    </tr>\n",
              "  </thead>\n",
              "  <tbody>\n",
              "    <tr>\n",
              "      <th>Prof</th>\n",
              "      <td>123624.804348</td>\n",
              "    </tr>\n",
              "    <tr>\n",
              "      <th>AssocProf</th>\n",
              "      <td>91786.230769</td>\n",
              "    </tr>\n",
              "    <tr>\n",
              "      <th>AsstProf</th>\n",
              "      <td>81362.789474</td>\n",
              "    </tr>\n",
              "  </tbody>\n",
              "</table>\n",
              "</div>"
            ],
            "text/plain": [
              "                  salary\n",
              "rank                    \n",
              "Prof       123624.804348\n",
              "AssocProf   91786.230769\n",
              "AsstProf    81362.789474"
            ]
          },
          "metadata": {
            "tags": []
          },
          "execution_count": 33
        }
      ]
    },
    {
      "cell_type": "markdown",
      "metadata": {
        "id": "CJHuObUwlmUl"
      },
      "source": [
        "Filtering"
      ]
    },
    {
      "cell_type": "code",
      "metadata": {
        "colab": {
          "base_uri": "https://localhost:8080/",
          "height": 328
        },
        "id": "_bqH5AV6loxo",
        "outputId": "89e97a1c-613d-4af0-897e-5be7ecf7347d"
      },
      "source": [
        "df['salary']>150000\n",
        "df_sub=df[df['salary']>150000]\n",
        "df_sub\n"
      ],
      "execution_count": null,
      "outputs": [
        {
          "output_type": "execute_result",
          "data": {
            "text/html": [
              "<div>\n",
              "<style scoped>\n",
              "    .dataframe tbody tr th:only-of-type {\n",
              "        vertical-align: middle;\n",
              "    }\n",
              "\n",
              "    .dataframe tbody tr th {\n",
              "        vertical-align: top;\n",
              "    }\n",
              "\n",
              "    .dataframe thead th {\n",
              "        text-align: right;\n",
              "    }\n",
              "</style>\n",
              "<table border=\"1\" class=\"dataframe\">\n",
              "  <thead>\n",
              "    <tr style=\"text-align: right;\">\n",
              "      <th></th>\n",
              "      <th>rank</th>\n",
              "      <th>discipline</th>\n",
              "      <th>phd</th>\n",
              "      <th>service</th>\n",
              "      <th>sex</th>\n",
              "      <th>salary</th>\n",
              "    </tr>\n",
              "  </thead>\n",
              "  <tbody>\n",
              "    <tr>\n",
              "      <th>0</th>\n",
              "      <td>Prof</td>\n",
              "      <td>B</td>\n",
              "      <td>56</td>\n",
              "      <td>49</td>\n",
              "      <td>Male</td>\n",
              "      <td>186960</td>\n",
              "    </tr>\n",
              "    <tr>\n",
              "      <th>13</th>\n",
              "      <td>Prof</td>\n",
              "      <td>B</td>\n",
              "      <td>35</td>\n",
              "      <td>33</td>\n",
              "      <td>Male</td>\n",
              "      <td>162200</td>\n",
              "    </tr>\n",
              "    <tr>\n",
              "      <th>14</th>\n",
              "      <td>Prof</td>\n",
              "      <td>B</td>\n",
              "      <td>25</td>\n",
              "      <td>19</td>\n",
              "      <td>Male</td>\n",
              "      <td>153750</td>\n",
              "    </tr>\n",
              "    <tr>\n",
              "      <th>15</th>\n",
              "      <td>Prof</td>\n",
              "      <td>B</td>\n",
              "      <td>17</td>\n",
              "      <td>3</td>\n",
              "      <td>Male</td>\n",
              "      <td>150480</td>\n",
              "    </tr>\n",
              "    <tr>\n",
              "      <th>19</th>\n",
              "      <td>Prof</td>\n",
              "      <td>A</td>\n",
              "      <td>29</td>\n",
              "      <td>27</td>\n",
              "      <td>Male</td>\n",
              "      <td>150500</td>\n",
              "    </tr>\n",
              "    <tr>\n",
              "      <th>27</th>\n",
              "      <td>Prof</td>\n",
              "      <td>A</td>\n",
              "      <td>45</td>\n",
              "      <td>43</td>\n",
              "      <td>Male</td>\n",
              "      <td>155865</td>\n",
              "    </tr>\n",
              "    <tr>\n",
              "      <th>31</th>\n",
              "      <td>Prof</td>\n",
              "      <td>B</td>\n",
              "      <td>22</td>\n",
              "      <td>21</td>\n",
              "      <td>Male</td>\n",
              "      <td>155750</td>\n",
              "    </tr>\n",
              "    <tr>\n",
              "      <th>44</th>\n",
              "      <td>Prof</td>\n",
              "      <td>B</td>\n",
              "      <td>23</td>\n",
              "      <td>19</td>\n",
              "      <td>Female</td>\n",
              "      <td>151768</td>\n",
              "    </tr>\n",
              "    <tr>\n",
              "      <th>72</th>\n",
              "      <td>Prof</td>\n",
              "      <td>B</td>\n",
              "      <td>24</td>\n",
              "      <td>15</td>\n",
              "      <td>Female</td>\n",
              "      <td>161101</td>\n",
              "    </tr>\n",
              "  </tbody>\n",
              "</table>\n",
              "</div>"
            ],
            "text/plain": [
              "    rank discipline  phd  service     sex  salary\n",
              "0   Prof          B   56       49    Male  186960\n",
              "13  Prof          B   35       33    Male  162200\n",
              "14  Prof          B   25       19    Male  153750\n",
              "15  Prof          B   17        3    Male  150480\n",
              "19  Prof          A   29       27    Male  150500\n",
              "27  Prof          A   45       43    Male  155865\n",
              "31  Prof          B   22       21    Male  155750\n",
              "44  Prof          B   23       19  Female  151768\n",
              "72  Prof          B   24       15  Female  161101"
            ]
          },
          "metadata": {
            "tags": []
          },
          "execution_count": 39
        }
      ]
    },
    {
      "cell_type": "markdown",
      "metadata": {
        "id": "UycLvUaqme2r"
      },
      "source": [
        "find the mean value of discipline a"
      ]
    },
    {
      "cell_type": "code",
      "metadata": {
        "colab": {
          "base_uri": "https://localhost:8080/"
        },
        "id": "uTih5oonmsRc",
        "outputId": "0347ddbe-5da2-4449-a4ab-d0c76d9a7ea2"
      },
      "source": [
        "df[df['discipline']=='A']['salary'].mean()"
      ],
      "execution_count": null,
      "outputs": [
        {
          "output_type": "execute_result",
          "data": {
            "text/plain": [
              "98331.11111111111"
            ]
          },
          "metadata": {
            "tags": []
          },
          "execution_count": 40
        }
      ]
    },
    {
      "cell_type": "markdown",
      "metadata": {
        "id": "AgLOipBRncIs"
      },
      "source": [
        "slicing"
      ]
    },
    {
      "cell_type": "code",
      "metadata": {
        "colab": {
          "base_uri": "https://localhost:8080/"
        },
        "id": "6Cqd9YTtndUh",
        "outputId": "aa78b16f-a5c6-452e-ff8f-4294962e4b9b"
      },
      "source": [
        "df['salary']"
      ],
      "execution_count": null,
      "outputs": [
        {
          "output_type": "execute_result",
          "data": {
            "text/plain": [
              "0     186960\n",
              "1      93000\n",
              "2     110515\n",
              "3     131205\n",
              "4     104800\n",
              "       ...  \n",
              "73    105450\n",
              "74    104542\n",
              "75    124312\n",
              "76    109954\n",
              "77    109646\n",
              "Name: salary, Length: 78, dtype: int64"
            ]
          },
          "metadata": {
            "tags": []
          },
          "execution_count": 41
        }
      ]
    },
    {
      "cell_type": "code",
      "metadata": {
        "colab": {
          "base_uri": "https://localhost:8080/",
          "height": 419
        },
        "id": "ETsd7MXzni83",
        "outputId": "ec7a0fe0-4ac0-4d5f-9b89-63e2398873f0"
      },
      "source": [
        "df[['rank','salary','phd','service']]"
      ],
      "execution_count": null,
      "outputs": [
        {
          "output_type": "execute_result",
          "data": {
            "text/html": [
              "<div>\n",
              "<style scoped>\n",
              "    .dataframe tbody tr th:only-of-type {\n",
              "        vertical-align: middle;\n",
              "    }\n",
              "\n",
              "    .dataframe tbody tr th {\n",
              "        vertical-align: top;\n",
              "    }\n",
              "\n",
              "    .dataframe thead th {\n",
              "        text-align: right;\n",
              "    }\n",
              "</style>\n",
              "<table border=\"1\" class=\"dataframe\">\n",
              "  <thead>\n",
              "    <tr style=\"text-align: right;\">\n",
              "      <th></th>\n",
              "      <th>rank</th>\n",
              "      <th>salary</th>\n",
              "      <th>phd</th>\n",
              "      <th>service</th>\n",
              "    </tr>\n",
              "  </thead>\n",
              "  <tbody>\n",
              "    <tr>\n",
              "      <th>0</th>\n",
              "      <td>Prof</td>\n",
              "      <td>186960</td>\n",
              "      <td>56</td>\n",
              "      <td>49</td>\n",
              "    </tr>\n",
              "    <tr>\n",
              "      <th>1</th>\n",
              "      <td>Prof</td>\n",
              "      <td>93000</td>\n",
              "      <td>12</td>\n",
              "      <td>6</td>\n",
              "    </tr>\n",
              "    <tr>\n",
              "      <th>2</th>\n",
              "      <td>Prof</td>\n",
              "      <td>110515</td>\n",
              "      <td>23</td>\n",
              "      <td>20</td>\n",
              "    </tr>\n",
              "    <tr>\n",
              "      <th>3</th>\n",
              "      <td>Prof</td>\n",
              "      <td>131205</td>\n",
              "      <td>40</td>\n",
              "      <td>31</td>\n",
              "    </tr>\n",
              "    <tr>\n",
              "      <th>4</th>\n",
              "      <td>Prof</td>\n",
              "      <td>104800</td>\n",
              "      <td>20</td>\n",
              "      <td>18</td>\n",
              "    </tr>\n",
              "    <tr>\n",
              "      <th>...</th>\n",
              "      <td>...</td>\n",
              "      <td>...</td>\n",
              "      <td>...</td>\n",
              "      <td>...</td>\n",
              "    </tr>\n",
              "    <tr>\n",
              "      <th>73</th>\n",
              "      <td>Prof</td>\n",
              "      <td>105450</td>\n",
              "      <td>18</td>\n",
              "      <td>10</td>\n",
              "    </tr>\n",
              "    <tr>\n",
              "      <th>74</th>\n",
              "      <td>AssocProf</td>\n",
              "      <td>104542</td>\n",
              "      <td>19</td>\n",
              "      <td>6</td>\n",
              "    </tr>\n",
              "    <tr>\n",
              "      <th>75</th>\n",
              "      <td>Prof</td>\n",
              "      <td>124312</td>\n",
              "      <td>17</td>\n",
              "      <td>17</td>\n",
              "    </tr>\n",
              "    <tr>\n",
              "      <th>76</th>\n",
              "      <td>Prof</td>\n",
              "      <td>109954</td>\n",
              "      <td>28</td>\n",
              "      <td>14</td>\n",
              "    </tr>\n",
              "    <tr>\n",
              "      <th>77</th>\n",
              "      <td>Prof</td>\n",
              "      <td>109646</td>\n",
              "      <td>23</td>\n",
              "      <td>15</td>\n",
              "    </tr>\n",
              "  </tbody>\n",
              "</table>\n",
              "<p>78 rows × 4 columns</p>\n",
              "</div>"
            ],
            "text/plain": [
              "         rank  salary  phd  service\n",
              "0        Prof  186960   56       49\n",
              "1        Prof   93000   12        6\n",
              "2        Prof  110515   23       20\n",
              "3        Prof  131205   40       31\n",
              "4        Prof  104800   20       18\n",
              "..        ...     ...  ...      ...\n",
              "73       Prof  105450   18       10\n",
              "74  AssocProf  104542   19        6\n",
              "75       Prof  124312   17       17\n",
              "76       Prof  109954   28       14\n",
              "77       Prof  109646   23       15\n",
              "\n",
              "[78 rows x 4 columns]"
            ]
          },
          "metadata": {
            "tags": []
          },
          "execution_count": 45
        }
      ]
    },
    {
      "cell_type": "code",
      "metadata": {
        "colab": {
          "base_uri": "https://localhost:8080/",
          "height": 359
        },
        "id": "2wzJ1toNoLV0",
        "outputId": "e047221e-c57e-4aed-be5c-077edf39572e"
      },
      "source": [
        "df[10:20]"
      ],
      "execution_count": null,
      "outputs": [
        {
          "output_type": "execute_result",
          "data": {
            "text/html": [
              "<div>\n",
              "<style scoped>\n",
              "    .dataframe tbody tr th:only-of-type {\n",
              "        vertical-align: middle;\n",
              "    }\n",
              "\n",
              "    .dataframe tbody tr th {\n",
              "        vertical-align: top;\n",
              "    }\n",
              "\n",
              "    .dataframe thead th {\n",
              "        text-align: right;\n",
              "    }\n",
              "</style>\n",
              "<table border=\"1\" class=\"dataframe\">\n",
              "  <thead>\n",
              "    <tr style=\"text-align: right;\">\n",
              "      <th></th>\n",
              "      <th>rank</th>\n",
              "      <th>discipline</th>\n",
              "      <th>phd</th>\n",
              "      <th>service</th>\n",
              "      <th>sex</th>\n",
              "      <th>salary</th>\n",
              "    </tr>\n",
              "  </thead>\n",
              "  <tbody>\n",
              "    <tr>\n",
              "      <th>10</th>\n",
              "      <td>Prof</td>\n",
              "      <td>B</td>\n",
              "      <td>39</td>\n",
              "      <td>33</td>\n",
              "      <td>Male</td>\n",
              "      <td>128250</td>\n",
              "    </tr>\n",
              "    <tr>\n",
              "      <th>11</th>\n",
              "      <td>Prof</td>\n",
              "      <td>B</td>\n",
              "      <td>23</td>\n",
              "      <td>23</td>\n",
              "      <td>Male</td>\n",
              "      <td>134778</td>\n",
              "    </tr>\n",
              "    <tr>\n",
              "      <th>12</th>\n",
              "      <td>AsstProf</td>\n",
              "      <td>B</td>\n",
              "      <td>1</td>\n",
              "      <td>0</td>\n",
              "      <td>Male</td>\n",
              "      <td>88000</td>\n",
              "    </tr>\n",
              "    <tr>\n",
              "      <th>13</th>\n",
              "      <td>Prof</td>\n",
              "      <td>B</td>\n",
              "      <td>35</td>\n",
              "      <td>33</td>\n",
              "      <td>Male</td>\n",
              "      <td>162200</td>\n",
              "    </tr>\n",
              "    <tr>\n",
              "      <th>14</th>\n",
              "      <td>Prof</td>\n",
              "      <td>B</td>\n",
              "      <td>25</td>\n",
              "      <td>19</td>\n",
              "      <td>Male</td>\n",
              "      <td>153750</td>\n",
              "    </tr>\n",
              "    <tr>\n",
              "      <th>15</th>\n",
              "      <td>Prof</td>\n",
              "      <td>B</td>\n",
              "      <td>17</td>\n",
              "      <td>3</td>\n",
              "      <td>Male</td>\n",
              "      <td>150480</td>\n",
              "    </tr>\n",
              "    <tr>\n",
              "      <th>16</th>\n",
              "      <td>AsstProf</td>\n",
              "      <td>B</td>\n",
              "      <td>8</td>\n",
              "      <td>3</td>\n",
              "      <td>Male</td>\n",
              "      <td>75044</td>\n",
              "    </tr>\n",
              "    <tr>\n",
              "      <th>17</th>\n",
              "      <td>AsstProf</td>\n",
              "      <td>B</td>\n",
              "      <td>4</td>\n",
              "      <td>0</td>\n",
              "      <td>Male</td>\n",
              "      <td>92000</td>\n",
              "    </tr>\n",
              "    <tr>\n",
              "      <th>18</th>\n",
              "      <td>Prof</td>\n",
              "      <td>A</td>\n",
              "      <td>19</td>\n",
              "      <td>7</td>\n",
              "      <td>Male</td>\n",
              "      <td>107300</td>\n",
              "    </tr>\n",
              "    <tr>\n",
              "      <th>19</th>\n",
              "      <td>Prof</td>\n",
              "      <td>A</td>\n",
              "      <td>29</td>\n",
              "      <td>27</td>\n",
              "      <td>Male</td>\n",
              "      <td>150500</td>\n",
              "    </tr>\n",
              "  </tbody>\n",
              "</table>\n",
              "</div>"
            ],
            "text/plain": [
              "        rank discipline  phd  service   sex  salary\n",
              "10      Prof          B   39       33  Male  128250\n",
              "11      Prof          B   23       23  Male  134778\n",
              "12  AsstProf          B    1        0  Male   88000\n",
              "13      Prof          B   35       33  Male  162200\n",
              "14      Prof          B   25       19  Male  153750\n",
              "15      Prof          B   17        3  Male  150480\n",
              "16  AsstProf          B    8        3  Male   75044\n",
              "17  AsstProf          B    4        0  Male   92000\n",
              "18      Prof          A   19        7  Male  107300\n",
              "19      Prof          A   29       27  Male  150500"
            ]
          },
          "metadata": {
            "tags": []
          },
          "execution_count": 46
        }
      ]
    },
    {
      "cell_type": "code",
      "metadata": {
        "colab": {
          "base_uri": "https://localhost:8080/",
          "height": 359
        },
        "id": "f3p9QzCyoPXp",
        "outputId": "e7aa35c6-eeef-4527-9600-eb9c888f2c5b"
      },
      "source": [
        "df.iloc[10:20,[0,3,4,5]]"
      ],
      "execution_count": null,
      "outputs": [
        {
          "output_type": "execute_result",
          "data": {
            "text/html": [
              "<div>\n",
              "<style scoped>\n",
              "    .dataframe tbody tr th:only-of-type {\n",
              "        vertical-align: middle;\n",
              "    }\n",
              "\n",
              "    .dataframe tbody tr th {\n",
              "        vertical-align: top;\n",
              "    }\n",
              "\n",
              "    .dataframe thead th {\n",
              "        text-align: right;\n",
              "    }\n",
              "</style>\n",
              "<table border=\"1\" class=\"dataframe\">\n",
              "  <thead>\n",
              "    <tr style=\"text-align: right;\">\n",
              "      <th></th>\n",
              "      <th>rank</th>\n",
              "      <th>service</th>\n",
              "      <th>sex</th>\n",
              "      <th>salary</th>\n",
              "    </tr>\n",
              "  </thead>\n",
              "  <tbody>\n",
              "    <tr>\n",
              "      <th>10</th>\n",
              "      <td>Prof</td>\n",
              "      <td>33</td>\n",
              "      <td>Male</td>\n",
              "      <td>128250</td>\n",
              "    </tr>\n",
              "    <tr>\n",
              "      <th>11</th>\n",
              "      <td>Prof</td>\n",
              "      <td>23</td>\n",
              "      <td>Male</td>\n",
              "      <td>134778</td>\n",
              "    </tr>\n",
              "    <tr>\n",
              "      <th>12</th>\n",
              "      <td>AsstProf</td>\n",
              "      <td>0</td>\n",
              "      <td>Male</td>\n",
              "      <td>88000</td>\n",
              "    </tr>\n",
              "    <tr>\n",
              "      <th>13</th>\n",
              "      <td>Prof</td>\n",
              "      <td>33</td>\n",
              "      <td>Male</td>\n",
              "      <td>162200</td>\n",
              "    </tr>\n",
              "    <tr>\n",
              "      <th>14</th>\n",
              "      <td>Prof</td>\n",
              "      <td>19</td>\n",
              "      <td>Male</td>\n",
              "      <td>153750</td>\n",
              "    </tr>\n",
              "    <tr>\n",
              "      <th>15</th>\n",
              "      <td>Prof</td>\n",
              "      <td>3</td>\n",
              "      <td>Male</td>\n",
              "      <td>150480</td>\n",
              "    </tr>\n",
              "    <tr>\n",
              "      <th>16</th>\n",
              "      <td>AsstProf</td>\n",
              "      <td>3</td>\n",
              "      <td>Male</td>\n",
              "      <td>75044</td>\n",
              "    </tr>\n",
              "    <tr>\n",
              "      <th>17</th>\n",
              "      <td>AsstProf</td>\n",
              "      <td>0</td>\n",
              "      <td>Male</td>\n",
              "      <td>92000</td>\n",
              "    </tr>\n",
              "    <tr>\n",
              "      <th>18</th>\n",
              "      <td>Prof</td>\n",
              "      <td>7</td>\n",
              "      <td>Male</td>\n",
              "      <td>107300</td>\n",
              "    </tr>\n",
              "    <tr>\n",
              "      <th>19</th>\n",
              "      <td>Prof</td>\n",
              "      <td>27</td>\n",
              "      <td>Male</td>\n",
              "      <td>150500</td>\n",
              "    </tr>\n",
              "  </tbody>\n",
              "</table>\n",
              "</div>"
            ],
            "text/plain": [
              "        rank  service   sex  salary\n",
              "10      Prof       33  Male  128250\n",
              "11      Prof       23  Male  134778\n",
              "12  AsstProf        0  Male   88000\n",
              "13      Prof       33  Male  162200\n",
              "14      Prof       19  Male  153750\n",
              "15      Prof        3  Male  150480\n",
              "16  AsstProf        3  Male   75044\n",
              "17  AsstProf        0  Male   92000\n",
              "18      Prof        7  Male  107300\n",
              "19      Prof       27  Male  150500"
            ]
          },
          "metadata": {
            "tags": []
          },
          "execution_count": 48
        }
      ]
    },
    {
      "cell_type": "code",
      "metadata": {
        "colab": {
          "base_uri": "https://localhost:8080/",
          "height": 419
        },
        "id": "D0PxIb1yojoj",
        "outputId": "0b33f08a-d264-49fc-8c38-4d817210727d"
      },
      "source": [
        "df.iloc[:,1:3]"
      ],
      "execution_count": null,
      "outputs": [
        {
          "output_type": "execute_result",
          "data": {
            "text/html": [
              "<div>\n",
              "<style scoped>\n",
              "    .dataframe tbody tr th:only-of-type {\n",
              "        vertical-align: middle;\n",
              "    }\n",
              "\n",
              "    .dataframe tbody tr th {\n",
              "        vertical-align: top;\n",
              "    }\n",
              "\n",
              "    .dataframe thead th {\n",
              "        text-align: right;\n",
              "    }\n",
              "</style>\n",
              "<table border=\"1\" class=\"dataframe\">\n",
              "  <thead>\n",
              "    <tr style=\"text-align: right;\">\n",
              "      <th></th>\n",
              "      <th>discipline</th>\n",
              "      <th>phd</th>\n",
              "    </tr>\n",
              "  </thead>\n",
              "  <tbody>\n",
              "    <tr>\n",
              "      <th>0</th>\n",
              "      <td>B</td>\n",
              "      <td>56</td>\n",
              "    </tr>\n",
              "    <tr>\n",
              "      <th>1</th>\n",
              "      <td>A</td>\n",
              "      <td>12</td>\n",
              "    </tr>\n",
              "    <tr>\n",
              "      <th>2</th>\n",
              "      <td>A</td>\n",
              "      <td>23</td>\n",
              "    </tr>\n",
              "    <tr>\n",
              "      <th>3</th>\n",
              "      <td>A</td>\n",
              "      <td>40</td>\n",
              "    </tr>\n",
              "    <tr>\n",
              "      <th>4</th>\n",
              "      <td>B</td>\n",
              "      <td>20</td>\n",
              "    </tr>\n",
              "    <tr>\n",
              "      <th>...</th>\n",
              "      <td>...</td>\n",
              "      <td>...</td>\n",
              "    </tr>\n",
              "    <tr>\n",
              "      <th>73</th>\n",
              "      <td>B</td>\n",
              "      <td>18</td>\n",
              "    </tr>\n",
              "    <tr>\n",
              "      <th>74</th>\n",
              "      <td>B</td>\n",
              "      <td>19</td>\n",
              "    </tr>\n",
              "    <tr>\n",
              "      <th>75</th>\n",
              "      <td>B</td>\n",
              "      <td>17</td>\n",
              "    </tr>\n",
              "    <tr>\n",
              "      <th>76</th>\n",
              "      <td>A</td>\n",
              "      <td>28</td>\n",
              "    </tr>\n",
              "    <tr>\n",
              "      <th>77</th>\n",
              "      <td>A</td>\n",
              "      <td>23</td>\n",
              "    </tr>\n",
              "  </tbody>\n",
              "</table>\n",
              "<p>78 rows × 2 columns</p>\n",
              "</div>"
            ],
            "text/plain": [
              "   discipline  phd\n",
              "0           B   56\n",
              "1           A   12\n",
              "2           A   23\n",
              "3           A   40\n",
              "4           B   20\n",
              "..        ...  ...\n",
              "73          B   18\n",
              "74          B   19\n",
              "75          B   17\n",
              "76          A   28\n",
              "77          A   23\n",
              "\n",
              "[78 rows x 2 columns]"
            ]
          },
          "metadata": {
            "tags": []
          },
          "execution_count": 52
        }
      ]
    },
    {
      "cell_type": "code",
      "metadata": {
        "colab": {
          "base_uri": "https://localhost:8080/",
          "height": 111
        },
        "id": "WWqB2xBmo_g-",
        "outputId": "2f3a6120-78fa-4044-ccd3-4fa0ffc5ef5d"
      },
      "source": [
        "df.iloc[1:3,0:2]"
      ],
      "execution_count": null,
      "outputs": [
        {
          "output_type": "execute_result",
          "data": {
            "text/html": [
              "<div>\n",
              "<style scoped>\n",
              "    .dataframe tbody tr th:only-of-type {\n",
              "        vertical-align: middle;\n",
              "    }\n",
              "\n",
              "    .dataframe tbody tr th {\n",
              "        vertical-align: top;\n",
              "    }\n",
              "\n",
              "    .dataframe thead th {\n",
              "        text-align: right;\n",
              "    }\n",
              "</style>\n",
              "<table border=\"1\" class=\"dataframe\">\n",
              "  <thead>\n",
              "    <tr style=\"text-align: right;\">\n",
              "      <th></th>\n",
              "      <th>rank</th>\n",
              "      <th>discipline</th>\n",
              "    </tr>\n",
              "  </thead>\n",
              "  <tbody>\n",
              "    <tr>\n",
              "      <th>1</th>\n",
              "      <td>Prof</td>\n",
              "      <td>A</td>\n",
              "    </tr>\n",
              "    <tr>\n",
              "      <th>2</th>\n",
              "      <td>Prof</td>\n",
              "      <td>A</td>\n",
              "    </tr>\n",
              "  </tbody>\n",
              "</table>\n",
              "</div>"
            ],
            "text/plain": [
              "   rank discipline\n",
              "1  Prof          A\n",
              "2  Prof          A"
            ]
          },
          "metadata": {
            "tags": []
          },
          "execution_count": 56
        }
      ]
    },
    {
      "cell_type": "code",
      "metadata": {
        "colab": {
          "base_uri": "https://localhost:8080/",
          "height": 340
        },
        "id": "lQgnGW0hpMO2",
        "outputId": "17559ed9-3bdc-4260-8652-c4960e1e094a"
      },
      "source": [
        "df.iloc[10,20,['rank','salary']]"
      ],
      "execution_count": null,
      "outputs": [
        {
          "output_type": "error",
          "ename": "IndexError",
          "evalue": "ignored",
          "traceback": [
            "\u001b[0;31m---------------------------------------------------------------------------\u001b[0m",
            "\u001b[0;31mIndexError\u001b[0m                                Traceback (most recent call last)",
            "\u001b[0;32m<ipython-input-60-23a65268bdbd>\u001b[0m in \u001b[0;36m<module>\u001b[0;34m()\u001b[0m\n\u001b[0;32m----> 1\u001b[0;31m \u001b[0mdf\u001b[0m\u001b[0;34m.\u001b[0m\u001b[0miloc\u001b[0m\u001b[0;34m[\u001b[0m\u001b[0;36m10\u001b[0m\u001b[0;34m,\u001b[0m\u001b[0;36m20\u001b[0m\u001b[0;34m,\u001b[0m\u001b[0;34m[\u001b[0m\u001b[0;34m'rank'\u001b[0m\u001b[0;34m,\u001b[0m\u001b[0;34m'salary'\u001b[0m\u001b[0;34m]\u001b[0m\u001b[0;34m]\u001b[0m\u001b[0;34m\u001b[0m\u001b[0;34m\u001b[0m\u001b[0m\n\u001b[0m",
            "\u001b[0;32m/usr/local/lib/python3.7/dist-packages/pandas/core/indexing.py\u001b[0m in \u001b[0;36m__getitem__\u001b[0;34m(self, key)\u001b[0m\n\u001b[1;32m    871\u001b[0m                     \u001b[0;31m# AttributeError for IntervalTree get_value\u001b[0m\u001b[0;34m\u001b[0m\u001b[0;34m\u001b[0m\u001b[0;34m\u001b[0m\u001b[0m\n\u001b[1;32m    872\u001b[0m                     \u001b[0;32mpass\u001b[0m\u001b[0;34m\u001b[0m\u001b[0;34m\u001b[0m\u001b[0m\n\u001b[0;32m--> 873\u001b[0;31m             \u001b[0;32mreturn\u001b[0m \u001b[0mself\u001b[0m\u001b[0;34m.\u001b[0m\u001b[0m_getitem_tuple\u001b[0m\u001b[0;34m(\u001b[0m\u001b[0mkey\u001b[0m\u001b[0;34m)\u001b[0m\u001b[0;34m\u001b[0m\u001b[0;34m\u001b[0m\u001b[0m\n\u001b[0m\u001b[1;32m    874\u001b[0m         \u001b[0;32melse\u001b[0m\u001b[0;34m:\u001b[0m\u001b[0;34m\u001b[0m\u001b[0;34m\u001b[0m\u001b[0m\n\u001b[1;32m    875\u001b[0m             \u001b[0;31m# we by definition only have the 0th axis\u001b[0m\u001b[0;34m\u001b[0m\u001b[0;34m\u001b[0m\u001b[0;34m\u001b[0m\u001b[0m\n",
            "\u001b[0;32m/usr/local/lib/python3.7/dist-packages/pandas/core/indexing.py\u001b[0m in \u001b[0;36m_getitem_tuple\u001b[0;34m(self, tup)\u001b[0m\n\u001b[1;32m   1441\u001b[0m     \u001b[0;32mdef\u001b[0m \u001b[0m_getitem_tuple\u001b[0m\u001b[0;34m(\u001b[0m\u001b[0mself\u001b[0m\u001b[0;34m,\u001b[0m \u001b[0mtup\u001b[0m\u001b[0;34m:\u001b[0m \u001b[0mTuple\u001b[0m\u001b[0;34m)\u001b[0m\u001b[0;34m:\u001b[0m\u001b[0;34m\u001b[0m\u001b[0;34m\u001b[0m\u001b[0m\n\u001b[1;32m   1442\u001b[0m \u001b[0;34m\u001b[0m\u001b[0m\n\u001b[0;32m-> 1443\u001b[0;31m         \u001b[0mself\u001b[0m\u001b[0;34m.\u001b[0m\u001b[0m_has_valid_tuple\u001b[0m\u001b[0;34m(\u001b[0m\u001b[0mtup\u001b[0m\u001b[0;34m)\u001b[0m\u001b[0;34m\u001b[0m\u001b[0;34m\u001b[0m\u001b[0m\n\u001b[0m\u001b[1;32m   1444\u001b[0m         \u001b[0;32mtry\u001b[0m\u001b[0;34m:\u001b[0m\u001b[0;34m\u001b[0m\u001b[0;34m\u001b[0m\u001b[0m\n\u001b[1;32m   1445\u001b[0m             \u001b[0;32mreturn\u001b[0m \u001b[0mself\u001b[0m\u001b[0;34m.\u001b[0m\u001b[0m_getitem_lowerdim\u001b[0m\u001b[0;34m(\u001b[0m\u001b[0mtup\u001b[0m\u001b[0;34m)\u001b[0m\u001b[0;34m\u001b[0m\u001b[0;34m\u001b[0m\u001b[0m\n",
            "\u001b[0;32m/usr/local/lib/python3.7/dist-packages/pandas/core/indexing.py\u001b[0m in \u001b[0;36m_has_valid_tuple\u001b[0;34m(self, key)\u001b[0m\n\u001b[1;32m    700\u001b[0m                 \u001b[0;32mraise\u001b[0m \u001b[0mIndexingError\u001b[0m\u001b[0;34m(\u001b[0m\u001b[0;34m\"Too many indexers\"\u001b[0m\u001b[0;34m)\u001b[0m\u001b[0;34m\u001b[0m\u001b[0;34m\u001b[0m\u001b[0m\n\u001b[1;32m    701\u001b[0m             \u001b[0;32mtry\u001b[0m\u001b[0;34m:\u001b[0m\u001b[0;34m\u001b[0m\u001b[0;34m\u001b[0m\u001b[0m\n\u001b[0;32m--> 702\u001b[0;31m                 \u001b[0mself\u001b[0m\u001b[0;34m.\u001b[0m\u001b[0m_validate_key\u001b[0m\u001b[0;34m(\u001b[0m\u001b[0mk\u001b[0m\u001b[0;34m,\u001b[0m \u001b[0mi\u001b[0m\u001b[0;34m)\u001b[0m\u001b[0;34m\u001b[0m\u001b[0;34m\u001b[0m\u001b[0m\n\u001b[0m\u001b[1;32m    703\u001b[0m             \u001b[0;32mexcept\u001b[0m \u001b[0mValueError\u001b[0m \u001b[0;32mas\u001b[0m \u001b[0merr\u001b[0m\u001b[0;34m:\u001b[0m\u001b[0;34m\u001b[0m\u001b[0;34m\u001b[0m\u001b[0m\n\u001b[1;32m    704\u001b[0m                 raise ValueError(\n",
            "\u001b[0;32m/usr/local/lib/python3.7/dist-packages/pandas/core/indexing.py\u001b[0m in \u001b[0;36m_validate_key\u001b[0;34m(self, key, axis)\u001b[0m\n\u001b[1;32m   1350\u001b[0m             \u001b[0;32mreturn\u001b[0m\u001b[0;34m\u001b[0m\u001b[0;34m\u001b[0m\u001b[0m\n\u001b[1;32m   1351\u001b[0m         \u001b[0;32melif\u001b[0m \u001b[0mis_integer\u001b[0m\u001b[0;34m(\u001b[0m\u001b[0mkey\u001b[0m\u001b[0;34m)\u001b[0m\u001b[0;34m:\u001b[0m\u001b[0;34m\u001b[0m\u001b[0;34m\u001b[0m\u001b[0m\n\u001b[0;32m-> 1352\u001b[0;31m             \u001b[0mself\u001b[0m\u001b[0;34m.\u001b[0m\u001b[0m_validate_integer\u001b[0m\u001b[0;34m(\u001b[0m\u001b[0mkey\u001b[0m\u001b[0;34m,\u001b[0m \u001b[0maxis\u001b[0m\u001b[0;34m)\u001b[0m\u001b[0;34m\u001b[0m\u001b[0;34m\u001b[0m\u001b[0m\n\u001b[0m\u001b[1;32m   1353\u001b[0m         \u001b[0;32melif\u001b[0m \u001b[0misinstance\u001b[0m\u001b[0;34m(\u001b[0m\u001b[0mkey\u001b[0m\u001b[0;34m,\u001b[0m \u001b[0mtuple\u001b[0m\u001b[0;34m)\u001b[0m\u001b[0;34m:\u001b[0m\u001b[0;34m\u001b[0m\u001b[0;34m\u001b[0m\u001b[0m\n\u001b[1;32m   1354\u001b[0m             \u001b[0;31m# a tuple should already have been caught by this point\u001b[0m\u001b[0;34m\u001b[0m\u001b[0;34m\u001b[0m\u001b[0;34m\u001b[0m\u001b[0m\n",
            "\u001b[0;32m/usr/local/lib/python3.7/dist-packages/pandas/core/indexing.py\u001b[0m in \u001b[0;36m_validate_integer\u001b[0;34m(self, key, axis)\u001b[0m\n\u001b[1;32m   1435\u001b[0m         \u001b[0mlen_axis\u001b[0m \u001b[0;34m=\u001b[0m \u001b[0mlen\u001b[0m\u001b[0;34m(\u001b[0m\u001b[0mself\u001b[0m\u001b[0;34m.\u001b[0m\u001b[0mobj\u001b[0m\u001b[0;34m.\u001b[0m\u001b[0m_get_axis\u001b[0m\u001b[0;34m(\u001b[0m\u001b[0maxis\u001b[0m\u001b[0;34m)\u001b[0m\u001b[0;34m)\u001b[0m\u001b[0;34m\u001b[0m\u001b[0;34m\u001b[0m\u001b[0m\n\u001b[1;32m   1436\u001b[0m         \u001b[0;32mif\u001b[0m \u001b[0mkey\u001b[0m \u001b[0;34m>=\u001b[0m \u001b[0mlen_axis\u001b[0m \u001b[0;32mor\u001b[0m \u001b[0mkey\u001b[0m \u001b[0;34m<\u001b[0m \u001b[0;34m-\u001b[0m\u001b[0mlen_axis\u001b[0m\u001b[0;34m:\u001b[0m\u001b[0;34m\u001b[0m\u001b[0;34m\u001b[0m\u001b[0m\n\u001b[0;32m-> 1437\u001b[0;31m             \u001b[0;32mraise\u001b[0m \u001b[0mIndexError\u001b[0m\u001b[0;34m(\u001b[0m\u001b[0;34m\"single positional indexer is out-of-bounds\"\u001b[0m\u001b[0;34m)\u001b[0m\u001b[0;34m\u001b[0m\u001b[0;34m\u001b[0m\u001b[0m\n\u001b[0m\u001b[1;32m   1438\u001b[0m \u001b[0;34m\u001b[0m\u001b[0m\n\u001b[1;32m   1439\u001b[0m     \u001b[0;31m# -------------------------------------------------------------------\u001b[0m\u001b[0;34m\u001b[0m\u001b[0;34m\u001b[0m\u001b[0;34m\u001b[0m\u001b[0m\n",
            "\u001b[0;31mIndexError\u001b[0m: single positional indexer is out-of-bounds"
          ]
        }
      ]
    },
    {
      "cell_type": "markdown",
      "metadata": {
        "id": "-D0dCPIqpdts"
      },
      "source": [
        "sorting"
      ]
    },
    {
      "cell_type": "code",
      "metadata": {
        "colab": {
          "base_uri": "https://localhost:8080/",
          "height": 419
        },
        "id": "pweUb3wgpfSe",
        "outputId": "fdd1829d-10a2-4c16-8d20-ea39be6805ce"
      },
      "source": [
        "df.sort_values(by='salary')"
      ],
      "execution_count": null,
      "outputs": [
        {
          "output_type": "execute_result",
          "data": {
            "text/html": [
              "<div>\n",
              "<style scoped>\n",
              "    .dataframe tbody tr th:only-of-type {\n",
              "        vertical-align: middle;\n",
              "    }\n",
              "\n",
              "    .dataframe tbody tr th {\n",
              "        vertical-align: top;\n",
              "    }\n",
              "\n",
              "    .dataframe thead th {\n",
              "        text-align: right;\n",
              "    }\n",
              "</style>\n",
              "<table border=\"1\" class=\"dataframe\">\n",
              "  <thead>\n",
              "    <tr style=\"text-align: right;\">\n",
              "      <th></th>\n",
              "      <th>rank</th>\n",
              "      <th>discipline</th>\n",
              "      <th>phd</th>\n",
              "      <th>service</th>\n",
              "      <th>sex</th>\n",
              "      <th>salary</th>\n",
              "    </tr>\n",
              "  </thead>\n",
              "  <tbody>\n",
              "    <tr>\n",
              "      <th>9</th>\n",
              "      <td>Prof</td>\n",
              "      <td>A</td>\n",
              "      <td>51</td>\n",
              "      <td>51</td>\n",
              "      <td>Male</td>\n",
              "      <td>57800</td>\n",
              "    </tr>\n",
              "    <tr>\n",
              "      <th>54</th>\n",
              "      <td>AssocProf</td>\n",
              "      <td>A</td>\n",
              "      <td>25</td>\n",
              "      <td>22</td>\n",
              "      <td>Female</td>\n",
              "      <td>62884</td>\n",
              "    </tr>\n",
              "    <tr>\n",
              "      <th>66</th>\n",
              "      <td>AsstProf</td>\n",
              "      <td>A</td>\n",
              "      <td>7</td>\n",
              "      <td>6</td>\n",
              "      <td>Female</td>\n",
              "      <td>63100</td>\n",
              "    </tr>\n",
              "    <tr>\n",
              "      <th>71</th>\n",
              "      <td>AssocProf</td>\n",
              "      <td>B</td>\n",
              "      <td>12</td>\n",
              "      <td>9</td>\n",
              "      <td>Female</td>\n",
              "      <td>71065</td>\n",
              "    </tr>\n",
              "    <tr>\n",
              "      <th>57</th>\n",
              "      <td>AsstProf</td>\n",
              "      <td>A</td>\n",
              "      <td>3</td>\n",
              "      <td>1</td>\n",
              "      <td>Female</td>\n",
              "      <td>72500</td>\n",
              "    </tr>\n",
              "    <tr>\n",
              "      <th>...</th>\n",
              "      <td>...</td>\n",
              "      <td>...</td>\n",
              "      <td>...</td>\n",
              "      <td>...</td>\n",
              "      <td>...</td>\n",
              "      <td>...</td>\n",
              "    </tr>\n",
              "    <tr>\n",
              "      <th>31</th>\n",
              "      <td>Prof</td>\n",
              "      <td>B</td>\n",
              "      <td>22</td>\n",
              "      <td>21</td>\n",
              "      <td>Male</td>\n",
              "      <td>155750</td>\n",
              "    </tr>\n",
              "    <tr>\n",
              "      <th>27</th>\n",
              "      <td>Prof</td>\n",
              "      <td>A</td>\n",
              "      <td>45</td>\n",
              "      <td>43</td>\n",
              "      <td>Male</td>\n",
              "      <td>155865</td>\n",
              "    </tr>\n",
              "    <tr>\n",
              "      <th>72</th>\n",
              "      <td>Prof</td>\n",
              "      <td>B</td>\n",
              "      <td>24</td>\n",
              "      <td>15</td>\n",
              "      <td>Female</td>\n",
              "      <td>161101</td>\n",
              "    </tr>\n",
              "    <tr>\n",
              "      <th>13</th>\n",
              "      <td>Prof</td>\n",
              "      <td>B</td>\n",
              "      <td>35</td>\n",
              "      <td>33</td>\n",
              "      <td>Male</td>\n",
              "      <td>162200</td>\n",
              "    </tr>\n",
              "    <tr>\n",
              "      <th>0</th>\n",
              "      <td>Prof</td>\n",
              "      <td>B</td>\n",
              "      <td>56</td>\n",
              "      <td>49</td>\n",
              "      <td>Male</td>\n",
              "      <td>186960</td>\n",
              "    </tr>\n",
              "  </tbody>\n",
              "</table>\n",
              "<p>78 rows × 6 columns</p>\n",
              "</div>"
            ],
            "text/plain": [
              "         rank discipline  phd  service     sex  salary\n",
              "9        Prof          A   51       51    Male   57800\n",
              "54  AssocProf          A   25       22  Female   62884\n",
              "66   AsstProf          A    7        6  Female   63100\n",
              "71  AssocProf          B   12        9  Female   71065\n",
              "57   AsstProf          A    3        1  Female   72500\n",
              "..        ...        ...  ...      ...     ...     ...\n",
              "31       Prof          B   22       21    Male  155750\n",
              "27       Prof          A   45       43    Male  155865\n",
              "72       Prof          B   24       15  Female  161101\n",
              "13       Prof          B   35       33    Male  162200\n",
              "0        Prof          B   56       49    Male  186960\n",
              "\n",
              "[78 rows x 6 columns]"
            ]
          },
          "metadata": {
            "tags": []
          },
          "execution_count": 61
        }
      ]
    },
    {
      "cell_type": "code",
      "metadata": {
        "colab": {
          "base_uri": "https://localhost:8080/",
          "height": 419
        },
        "id": "8QWvt83dp4vX",
        "outputId": "b431e07c-26a1-494c-a14a-b8210bb4f668"
      },
      "source": [
        "df.sort_index(ascending='false')"
      ],
      "execution_count": null,
      "outputs": [
        {
          "output_type": "execute_result",
          "data": {
            "text/html": [
              "<div>\n",
              "<style scoped>\n",
              "    .dataframe tbody tr th:only-of-type {\n",
              "        vertical-align: middle;\n",
              "    }\n",
              "\n",
              "    .dataframe tbody tr th {\n",
              "        vertical-align: top;\n",
              "    }\n",
              "\n",
              "    .dataframe thead th {\n",
              "        text-align: right;\n",
              "    }\n",
              "</style>\n",
              "<table border=\"1\" class=\"dataframe\">\n",
              "  <thead>\n",
              "    <tr style=\"text-align: right;\">\n",
              "      <th></th>\n",
              "      <th>rank</th>\n",
              "      <th>discipline</th>\n",
              "      <th>phd</th>\n",
              "      <th>service</th>\n",
              "      <th>sex</th>\n",
              "      <th>salary</th>\n",
              "    </tr>\n",
              "  </thead>\n",
              "  <tbody>\n",
              "    <tr>\n",
              "      <th>0</th>\n",
              "      <td>Prof</td>\n",
              "      <td>B</td>\n",
              "      <td>56</td>\n",
              "      <td>49</td>\n",
              "      <td>Male</td>\n",
              "      <td>186960</td>\n",
              "    </tr>\n",
              "    <tr>\n",
              "      <th>1</th>\n",
              "      <td>Prof</td>\n",
              "      <td>A</td>\n",
              "      <td>12</td>\n",
              "      <td>6</td>\n",
              "      <td>Male</td>\n",
              "      <td>93000</td>\n",
              "    </tr>\n",
              "    <tr>\n",
              "      <th>2</th>\n",
              "      <td>Prof</td>\n",
              "      <td>A</td>\n",
              "      <td>23</td>\n",
              "      <td>20</td>\n",
              "      <td>Male</td>\n",
              "      <td>110515</td>\n",
              "    </tr>\n",
              "    <tr>\n",
              "      <th>3</th>\n",
              "      <td>Prof</td>\n",
              "      <td>A</td>\n",
              "      <td>40</td>\n",
              "      <td>31</td>\n",
              "      <td>Male</td>\n",
              "      <td>131205</td>\n",
              "    </tr>\n",
              "    <tr>\n",
              "      <th>4</th>\n",
              "      <td>Prof</td>\n",
              "      <td>B</td>\n",
              "      <td>20</td>\n",
              "      <td>18</td>\n",
              "      <td>Male</td>\n",
              "      <td>104800</td>\n",
              "    </tr>\n",
              "    <tr>\n",
              "      <th>...</th>\n",
              "      <td>...</td>\n",
              "      <td>...</td>\n",
              "      <td>...</td>\n",
              "      <td>...</td>\n",
              "      <td>...</td>\n",
              "      <td>...</td>\n",
              "    </tr>\n",
              "    <tr>\n",
              "      <th>73</th>\n",
              "      <td>Prof</td>\n",
              "      <td>B</td>\n",
              "      <td>18</td>\n",
              "      <td>10</td>\n",
              "      <td>Female</td>\n",
              "      <td>105450</td>\n",
              "    </tr>\n",
              "    <tr>\n",
              "      <th>74</th>\n",
              "      <td>AssocProf</td>\n",
              "      <td>B</td>\n",
              "      <td>19</td>\n",
              "      <td>6</td>\n",
              "      <td>Female</td>\n",
              "      <td>104542</td>\n",
              "    </tr>\n",
              "    <tr>\n",
              "      <th>75</th>\n",
              "      <td>Prof</td>\n",
              "      <td>B</td>\n",
              "      <td>17</td>\n",
              "      <td>17</td>\n",
              "      <td>Female</td>\n",
              "      <td>124312</td>\n",
              "    </tr>\n",
              "    <tr>\n",
              "      <th>76</th>\n",
              "      <td>Prof</td>\n",
              "      <td>A</td>\n",
              "      <td>28</td>\n",
              "      <td>14</td>\n",
              "      <td>Female</td>\n",
              "      <td>109954</td>\n",
              "    </tr>\n",
              "    <tr>\n",
              "      <th>77</th>\n",
              "      <td>Prof</td>\n",
              "      <td>A</td>\n",
              "      <td>23</td>\n",
              "      <td>15</td>\n",
              "      <td>Female</td>\n",
              "      <td>109646</td>\n",
              "    </tr>\n",
              "  </tbody>\n",
              "</table>\n",
              "<p>78 rows × 6 columns</p>\n",
              "</div>"
            ],
            "text/plain": [
              "         rank discipline  phd  service     sex  salary\n",
              "0        Prof          B   56       49    Male  186960\n",
              "1        Prof          A   12        6    Male   93000\n",
              "2        Prof          A   23       20    Male  110515\n",
              "3        Prof          A   40       31    Male  131205\n",
              "4        Prof          B   20       18    Male  104800\n",
              "..        ...        ...  ...      ...     ...     ...\n",
              "73       Prof          B   18       10  Female  105450\n",
              "74  AssocProf          B   19        6  Female  104542\n",
              "75       Prof          B   17       17  Female  124312\n",
              "76       Prof          A   28       14  Female  109954\n",
              "77       Prof          A   23       15  Female  109646\n",
              "\n",
              "[78 rows x 6 columns]"
            ]
          },
          "metadata": {
            "tags": []
          },
          "execution_count": 64
        }
      ]
    },
    {
      "cell_type": "code",
      "metadata": {
        "colab": {
          "base_uri": "https://localhost:8080/",
          "height": 316
        },
        "id": "aUskb-pkqRYi",
        "outputId": "036ed915-5eac-48b4-f2d7-fec67d3e5021"
      },
      "source": [
        "df.sort_values(by=['salary','service','rank'],ascending=[True,False])"
      ],
      "execution_count": null,
      "outputs": [
        {
          "output_type": "error",
          "ename": "ValueError",
          "evalue": "ignored",
          "traceback": [
            "\u001b[0;31m---------------------------------------------------------------------------\u001b[0m",
            "\u001b[0;31mValueError\u001b[0m                                Traceback (most recent call last)",
            "\u001b[0;32m<ipython-input-65-ea714069e71a>\u001b[0m in \u001b[0;36m<module>\u001b[0;34m()\u001b[0m\n\u001b[0;32m----> 1\u001b[0;31m \u001b[0mdf\u001b[0m\u001b[0;34m.\u001b[0m\u001b[0msort_values\u001b[0m\u001b[0;34m(\u001b[0m\u001b[0mby\u001b[0m\u001b[0;34m=\u001b[0m\u001b[0;34m[\u001b[0m\u001b[0;34m'salary'\u001b[0m\u001b[0;34m,\u001b[0m\u001b[0;34m'service'\u001b[0m\u001b[0;34m,\u001b[0m\u001b[0;34m'rank'\u001b[0m\u001b[0;34m]\u001b[0m\u001b[0;34m,\u001b[0m\u001b[0mascending\u001b[0m\u001b[0;34m=\u001b[0m\u001b[0;34m[\u001b[0m\u001b[0;32mTrue\u001b[0m\u001b[0;34m,\u001b[0m\u001b[0;32mFalse\u001b[0m\u001b[0;34m]\u001b[0m\u001b[0;34m)\u001b[0m\u001b[0;34m\u001b[0m\u001b[0;34m\u001b[0m\u001b[0m\n\u001b[0m",
            "\u001b[0;32m/usr/local/lib/python3.7/dist-packages/pandas/core/frame.py\u001b[0m in \u001b[0;36msort_values\u001b[0;34m(self, by, axis, ascending, inplace, kind, na_position, ignore_index, key)\u001b[0m\n\u001b[1;32m   5277\u001b[0m         \u001b[0;32mif\u001b[0m \u001b[0mis_sequence\u001b[0m\u001b[0;34m(\u001b[0m\u001b[0mascending\u001b[0m\u001b[0;34m)\u001b[0m \u001b[0;32mand\u001b[0m \u001b[0mlen\u001b[0m\u001b[0;34m(\u001b[0m\u001b[0mby\u001b[0m\u001b[0;34m)\u001b[0m \u001b[0;34m!=\u001b[0m \u001b[0mlen\u001b[0m\u001b[0;34m(\u001b[0m\u001b[0mascending\u001b[0m\u001b[0;34m)\u001b[0m\u001b[0;34m:\u001b[0m\u001b[0;34m\u001b[0m\u001b[0;34m\u001b[0m\u001b[0m\n\u001b[1;32m   5278\u001b[0m             raise ValueError(\n\u001b[0;32m-> 5279\u001b[0;31m                 \u001b[0;34mf\"Length of ascending ({len(ascending)}) != length of by ({len(by)})\"\u001b[0m\u001b[0;34m\u001b[0m\u001b[0;34m\u001b[0m\u001b[0m\n\u001b[0m\u001b[1;32m   5280\u001b[0m             )\n\u001b[1;32m   5281\u001b[0m         \u001b[0;32mif\u001b[0m \u001b[0mlen\u001b[0m\u001b[0;34m(\u001b[0m\u001b[0mby\u001b[0m\u001b[0;34m)\u001b[0m \u001b[0;34m>\u001b[0m \u001b[0;36m1\u001b[0m\u001b[0;34m:\u001b[0m\u001b[0;34m\u001b[0m\u001b[0;34m\u001b[0m\u001b[0m\n",
            "\u001b[0;31mValueError\u001b[0m: Length of ascending (2) != length of by (3)"
          ]
        }
      ]
    },
    {
      "cell_type": "markdown",
      "metadata": {
        "id": "6mweUF-tqyc0"
      },
      "source": [
        "aggregation functions"
      ]
    },
    {
      "cell_type": "code",
      "metadata": {
        "colab": {
          "base_uri": "https://localhost:8080/"
        },
        "id": "ywTZ2aVOq10m",
        "outputId": "7c7dc651-9b9a-4347-ea13-63c2c0189a91"
      },
      "source": [
        "df.max()"
      ],
      "execution_count": null,
      "outputs": [
        {
          "output_type": "execute_result",
          "data": {
            "text/plain": [
              "rank            Prof\n",
              "discipline         B\n",
              "phd               56\n",
              "service           51\n",
              "sex             Male\n",
              "salary        186960\n",
              "dtype: object"
            ]
          },
          "metadata": {
            "tags": []
          },
          "execution_count": 66
        }
      ]
    },
    {
      "cell_type": "code",
      "metadata": {
        "colab": {
          "base_uri": "https://localhost:8080/"
        },
        "id": "2nutlDEMrWkd",
        "outputId": "34cc761c-af75-4acd-b33a-23adde651248"
      },
      "source": [
        "df.min()"
      ],
      "execution_count": null,
      "outputs": [
        {
          "output_type": "execute_result",
          "data": {
            "text/plain": [
              "rank          AssocProf\n",
              "discipline            A\n",
              "phd                   1\n",
              "service               0\n",
              "sex              Female\n",
              "salary            57800\n",
              "dtype: object"
            ]
          },
          "metadata": {
            "tags": []
          },
          "execution_count": 67
        }
      ]
    },
    {
      "cell_type": "code",
      "metadata": {
        "id": "IHP6tX2_rbzD"
      },
      "source": [
        ""
      ],
      "execution_count": null,
      "outputs": []
    },
    {
      "cell_type": "code",
      "metadata": {
        "colab": {
          "base_uri": "https://localhost:8080/",
          "height": 476
        },
        "id": "zyaF9mBrrery",
        "outputId": "7b192ae8-867c-4618-e9fb-c92f1a3a4e6d"
      },
      "source": [
        "df[['service','salary']].agg('mean','min','max')"
      ],
      "execution_count": null,
      "outputs": [
        {
          "output_type": "error",
          "ename": "ValueError",
          "evalue": "ignored",
          "traceback": [
            "\u001b[0;31m---------------------------------------------------------------------------\u001b[0m",
            "\u001b[0;31mKeyError\u001b[0m                                  Traceback (most recent call last)",
            "\u001b[0;32m/usr/local/lib/python3.7/dist-packages/pandas/core/generic.py\u001b[0m in \u001b[0;36m_get_axis_number\u001b[0;34m(cls, axis)\u001b[0m\n\u001b[1;32m    367\u001b[0m         \u001b[0;32mtry\u001b[0m\u001b[0;34m:\u001b[0m\u001b[0;34m\u001b[0m\u001b[0;34m\u001b[0m\u001b[0m\n\u001b[0;32m--> 368\u001b[0;31m             \u001b[0;32mreturn\u001b[0m \u001b[0mcls\u001b[0m\u001b[0;34m.\u001b[0m\u001b[0m_AXIS_TO_AXIS_NUMBER\u001b[0m\u001b[0;34m[\u001b[0m\u001b[0maxis\u001b[0m\u001b[0;34m]\u001b[0m\u001b[0;34m\u001b[0m\u001b[0;34m\u001b[0m\u001b[0m\n\u001b[0m\u001b[1;32m    369\u001b[0m         \u001b[0;32mexcept\u001b[0m \u001b[0mKeyError\u001b[0m\u001b[0;34m:\u001b[0m\u001b[0;34m\u001b[0m\u001b[0;34m\u001b[0m\u001b[0m\n",
            "\u001b[0;31mKeyError\u001b[0m: 'min'",
            "\nDuring handling of the above exception, another exception occurred:\n",
            "\u001b[0;31mValueError\u001b[0m                                Traceback (most recent call last)",
            "\u001b[0;32m<ipython-input-70-9606fcafedf7>\u001b[0m in \u001b[0;36m<module>\u001b[0;34m()\u001b[0m\n\u001b[0;32m----> 1\u001b[0;31m \u001b[0mdf\u001b[0m\u001b[0;34m[\u001b[0m\u001b[0;34m[\u001b[0m\u001b[0;34m'service'\u001b[0m\u001b[0;34m,\u001b[0m\u001b[0;34m'salary'\u001b[0m\u001b[0;34m]\u001b[0m\u001b[0;34m]\u001b[0m\u001b[0;34m.\u001b[0m\u001b[0magg\u001b[0m\u001b[0;34m(\u001b[0m\u001b[0;34m'mean'\u001b[0m\u001b[0;34m,\u001b[0m\u001b[0;34m'min'\u001b[0m\u001b[0;34m,\u001b[0m\u001b[0;34m'max'\u001b[0m\u001b[0;34m)\u001b[0m\u001b[0;34m\u001b[0m\u001b[0;34m\u001b[0m\u001b[0m\n\u001b[0m",
            "\u001b[0;32m/usr/local/lib/python3.7/dist-packages/pandas/core/frame.py\u001b[0m in \u001b[0;36maggregate\u001b[0;34m(self, func, axis, *args, **kwargs)\u001b[0m\n\u001b[1;32m   7358\u001b[0m     )\n\u001b[1;32m   7359\u001b[0m     \u001b[0;32mdef\u001b[0m \u001b[0maggregate\u001b[0m\u001b[0;34m(\u001b[0m\u001b[0mself\u001b[0m\u001b[0;34m,\u001b[0m \u001b[0mfunc\u001b[0m\u001b[0;34m=\u001b[0m\u001b[0;32mNone\u001b[0m\u001b[0;34m,\u001b[0m \u001b[0maxis\u001b[0m\u001b[0;34m=\u001b[0m\u001b[0;36m0\u001b[0m\u001b[0;34m,\u001b[0m \u001b[0;34m*\u001b[0m\u001b[0margs\u001b[0m\u001b[0;34m,\u001b[0m \u001b[0;34m**\u001b[0m\u001b[0mkwargs\u001b[0m\u001b[0;34m)\u001b[0m\u001b[0;34m:\u001b[0m\u001b[0;34m\u001b[0m\u001b[0;34m\u001b[0m\u001b[0m\n\u001b[0;32m-> 7360\u001b[0;31m         \u001b[0maxis\u001b[0m \u001b[0;34m=\u001b[0m \u001b[0mself\u001b[0m\u001b[0;34m.\u001b[0m\u001b[0m_get_axis_number\u001b[0m\u001b[0;34m(\u001b[0m\u001b[0maxis\u001b[0m\u001b[0;34m)\u001b[0m\u001b[0;34m\u001b[0m\u001b[0;34m\u001b[0m\u001b[0m\n\u001b[0m\u001b[1;32m   7361\u001b[0m \u001b[0;34m\u001b[0m\u001b[0m\n\u001b[1;32m   7362\u001b[0m         \u001b[0mrelabeling\u001b[0m\u001b[0;34m,\u001b[0m \u001b[0mfunc\u001b[0m\u001b[0;34m,\u001b[0m \u001b[0mcolumns\u001b[0m\u001b[0;34m,\u001b[0m \u001b[0morder\u001b[0m \u001b[0;34m=\u001b[0m \u001b[0mreconstruct_func\u001b[0m\u001b[0;34m(\u001b[0m\u001b[0mfunc\u001b[0m\u001b[0;34m,\u001b[0m \u001b[0;34m**\u001b[0m\u001b[0mkwargs\u001b[0m\u001b[0;34m)\u001b[0m\u001b[0;34m\u001b[0m\u001b[0;34m\u001b[0m\u001b[0m\n",
            "\u001b[0;32m/usr/local/lib/python3.7/dist-packages/pandas/core/generic.py\u001b[0m in \u001b[0;36m_get_axis_number\u001b[0;34m(cls, axis)\u001b[0m\n\u001b[1;32m    368\u001b[0m             \u001b[0;32mreturn\u001b[0m \u001b[0mcls\u001b[0m\u001b[0;34m.\u001b[0m\u001b[0m_AXIS_TO_AXIS_NUMBER\u001b[0m\u001b[0;34m[\u001b[0m\u001b[0maxis\u001b[0m\u001b[0;34m]\u001b[0m\u001b[0;34m\u001b[0m\u001b[0;34m\u001b[0m\u001b[0m\n\u001b[1;32m    369\u001b[0m         \u001b[0;32mexcept\u001b[0m \u001b[0mKeyError\u001b[0m\u001b[0;34m:\u001b[0m\u001b[0;34m\u001b[0m\u001b[0;34m\u001b[0m\u001b[0m\n\u001b[0;32m--> 370\u001b[0;31m             \u001b[0;32mraise\u001b[0m \u001b[0mValueError\u001b[0m\u001b[0;34m(\u001b[0m\u001b[0;34mf\"No axis named {axis} for object type {cls.__name__}\"\u001b[0m\u001b[0;34m)\u001b[0m\u001b[0;34m\u001b[0m\u001b[0;34m\u001b[0m\u001b[0m\n\u001b[0m\u001b[1;32m    371\u001b[0m \u001b[0;34m\u001b[0m\u001b[0m\n\u001b[1;32m    372\u001b[0m     \u001b[0;34m@\u001b[0m\u001b[0mclassmethod\u001b[0m\u001b[0;34m\u001b[0m\u001b[0;34m\u001b[0m\u001b[0m\n",
            "\u001b[0;31mValueError\u001b[0m: No axis named min for object type DataFrame"
          ]
        }
      ]
    },
    {
      "cell_type": "code",
      "metadata": {
        "id": "6ku5sbC8r3JB"
      },
      "source": [
        ""
      ],
      "execution_count": null,
      "outputs": []
    }
  ]
}